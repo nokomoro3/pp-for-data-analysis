{
 "cells": [
  {
   "cell_type": "markdown",
   "metadata": {},
   "source": [
    "# 前処理大全 SQL+Python版 (Chapter10)"
   ]
  },
  {
   "cell_type": "markdown",
   "metadata": {},
   "source": [
    "## はじめに\n",
    "- データベースはPostgreSQL13です\n",
    "- 初めに以下のセルを実行してください\n",
    "- セルに %%sql と記載することでSQLを発行することができます\n",
    "- jupyterからはdescribeコマンドによるテーブル構造の確認ができないため、テーブル構造を確認する場合はlimitを指定したSELECTなどで代用してください\n",
    "- 使い慣れたSQLクライアントを使っても問題ありません（接続情報は以下の通り）\n",
    "  - IPアドレス：Docker Desktopの場合はlocalhost、Docker toolboxの場合は192.168.99.100\n",
    "  - Port:5432\n",
    "  - database名: dsdojo_db\n",
    "  - ユーザ名：padawan\n",
    "  - パスワード:padawan12345\n",
    "- 大量出力を行うとJupyterが固まることがあるため、出力件数は制限することを推奨します（設問にも出力件数を記載）\n",
    "    - 結果確認のために表示させる量を適切にコントロールし、作業を軽快にすすめる技術もデータ加工には求められます\n",
    "- 大量結果が出力された場合は、ファイルが重くなり以降開けなくなることもあります\n",
    "    - その場合、作業結果は消えますがファイルをGitHubから取り直してください\n",
    "    - vimエディタなどで大量出力範囲を削除することもできます\n",
    "- 名前、住所等はダミーデータであり、実在するものではありません"
   ]
  },
  {
   "cell_type": "code",
   "execution_count": 215,
   "metadata": {},
   "outputs": [
    {
     "name": "stdout",
     "output_type": "stream",
     "text": [
      "The sql extension is already loaded. To reload it, use:\n",
      "  %reload_ext sql\n"
     ]
    },
    {
     "data": {
      "text/plain": [
       "'Connected: padawan@dsdojo_db'"
      ]
     },
     "execution_count": 215,
     "metadata": {},
     "output_type": "execute_result"
    }
   ],
   "source": [
    "%load_ext sql\n",
    "import os\n",
    "\n",
    "pgconfig = {\n",
    "    'host': 'db',\n",
    "    'port': os.environ['PG_PORT'],\n",
    "    'database': os.environ['PG_DATABASE'],\n",
    "    'user': os.environ['PG_USER'],\n",
    "    'password': os.environ['PG_PASSWORD'],\n",
    "}\n",
    "dsl = 'postgresql://{user}:{password}@{host}:{port}/{database}'.format(**pgconfig)\n",
    "\n",
    "# MagicコマンドでSQLを書くための設定\n",
    "%sql $dsl"
   ]
  },
  {
   "cell_type": "code",
   "execution_count": 216,
   "metadata": {},
   "outputs": [],
   "source": [
    "import pandas as pd\n",
    "import numpy as np\n",
    "from scipy.sparse import csc_matrix\n",
    "import datetime\n",
    "customer_df = pd.read_csv(\"./data/customer.csv\")\n",
    "reserve_df = pd.read_csv(\"./data/reserve.csv\")\n",
    "production_df = pd.read_csv(\"./data/production.csv\")\n",
    "production_missin_df = pd.read_csv(\"./data/production_missing_num.csv\")\n",
    "production_missin_category_df = pd.read_csv(\"./data/production_missing_category.csv\")"
   ]
  },
  {
   "cell_type": "markdown",
   "metadata": {},
   "source": [
    "# 演習問題\n",
    "\n",
    "## 冒頭\n",
    "\n",
    "- 今日は文字型の話。\n",
    "- 大きく言語依存と言語非依存の分析がある。\n",
    "- 言語依存の例\n",
    "  - 日本語は形態素解析を用いる\n",
    "  - 英語の場合は空白があるので、空白を目印に分解する。\n",
    "  - 英語には、三人称単数や過去形などがあるため、語尾をカットしたり、現在形に戻す前処理を行います。\n",
    "- 言語非依存の例\n",
    "  - N-gram\n",
    "    - N文字以下の塊を1文字ずつずらしながら取得する。\n",
    "    - Nを大きくすることで、長い単語を取り出すことができる。\n",
    "    >N-gramは、必ずしも1文字を1単位として扱うものではありません。たとえば、1単位を1単語と262 第11章文字型して、連続した単語の固まりを抽出する場合に利用することもあります）。\n",
    "    - 上記は、単語を最小単位とするN-gramがあるということ。\n",
    "    - N-gramは、抜け漏れなく分解できるので、検索の前処理や新語抽出の前処理として利用される。\n",
    "    >たとえば、新たな単語の抽出は、取り出した文字の固まりを種類別にカウントし、カウント数が多いよく出現する固まりは何らかの意味を持っている可能性が高いという傾向を利用して実現できます。\n",
    "  - RNN\n",
    "    - 文字単位で入力する場合は、こちらも言語非依存の例となる。\n",
    "- 得られるデータが少ない場合は、言語依存の手法が有効で、本書でもこちらを扱う。"
   ]
  },
  {
   "cell_type": "markdown",
   "metadata": {},
   "source": [
    "### 011_character/001: 形態素解析による分解\n",
    "\n",
    "- 形態素解析は、文法や辞書を用いて分解する方法。\n",
    "- 自ら開発するのは非常に大変なのでOSSのMeCabを使用する。\n",
    "- 専門用語が必要な場合は辞書を追加することもある。"
   ]
  },
  {
   "cell_type": "markdown",
   "metadata": {},
   "source": [
    "<span style=\"background-color:yellow;\">問１：走れメロスのテキストから、MeCabを利用して名詞と動詞の単語を取り出す。</span>"
   ]
  },
  {
   "cell_type": "markdown",
   "metadata": {},
   "source": [
    "#### R (Awesome)\n",
    "\n",
    "- RMeCabを使用する"
   ]
  },
  {
   "cell_type": "markdown",
   "metadata": {},
   "source": [
    "#### Python (Awesome)\n",
    "\n",
    "- MeCabを使用する方法は他にもいろいろあるが、本書ではnattoというライブラリを使用する。\n",
    "  - natto初めて聞いたな、今でも使えるか…？"
   ]
  },
  {
   "cell_type": "code",
   "execution_count": 3,
   "metadata": {},
   "outputs": [
    {
     "name": "stdout",
     "output_type": "stream",
     "text": [
      "Collecting natto-py\n",
      "  Downloading natto-py-1.0.0.tar.gz (36 kB)\n",
      "Requirement already satisfied: cffi in /opt/conda/lib/python3.9/site-packages (from natto-py) (1.14.6)\n",
      "Requirement already satisfied: pycparser in /opt/conda/lib/python3.9/site-packages (from cffi->natto-py) (2.20)\n",
      "Building wheels for collected packages: natto-py\n",
      "  Building wheel for natto-py (setup.py) ... \u001b[?25ldone\n",
      "\u001b[?25h  Created wheel for natto-py: filename=natto_py-1.0.0-py3-none-any.whl size=44828 sha256=6191a81214aead092932455a9c4c2026c1ecc171682d99659917d507927f8bb9\n",
      "  Stored in directory: /home/jovyan/.cache/pip/wheels/c9/52/a0/266fc0dd1990af9ea1db11f4e6b48d9112170dd2ef5e32a98e\n",
      "Successfully built natto-py\n",
      "Installing collected packages: natto-py\n",
      "Successfully installed natto-py-1.0.0\n"
     ]
    }
   ],
   "source": [
    "!pip3 install natto-py"
   ]
  },
  {
   "cell_type": "code",
   "execution_count": 5,
   "metadata": {},
   "outputs": [
    {
     "data": {
      "text/plain": [
       "'メロスは激怒した。必ず、かの邪智暴虐の王を除かなければならぬと決意した。メロスには政治がわからぬ。メロスは、村の牧人である。笛を吹き、羊と遊んで暮して来た。けれども邪悪に対しては、人一倍に敏感であった。きょう未明メロスは村を出発し、野を越え山越え、十里はなれた此のシラクスの市にやって来た。メロスには父も、母も無い。女房も無い。十六の、内気な妹と二人暮しだ。この妹は、村の或る律気な一牧人を、近々、花婿として迎える事になっていた。結婚式も間近かなのである。メロスは、それゆえ、花嫁の衣裳やら祝宴の御馳走やらを買いに、はるばる市にやって来たのだ。先ず、その品々を買い集め、それから都の大路をぶらぶら歩いた。メロスには竹馬の友があった。セリヌンティウスである。今は此のシラクスの市で、石工をしている。その友を、これから訪ねてみるつもりなのだ。久しく逢わなかったのだから、訪ねて行くのが楽しみである。歩いているうちにメロスは、まちの様子を怪しく思った。ひっそりしている。もう既に日も落ちて、まちの暗いのは当りまえだが、けれども、なんだか、夜のせいばかりでは無く、市全体が、やけに寂しい。のんきなメロスも、だんだん不安になって来た。路で逢った若い衆をつかまえて、何かあったのか、二年まえに此の市に来たときは、夜でも皆が歌をうたって、まちは賑やかであった筈だが、と質問した。若い衆は、首を振って答えなかった。しばらく歩いて老爺に逢い、こんどはもっと、語勢を強くして質問した。老爺は答えなかった。メロスは両手で老爺のからだをゆすぶって質問を重ねた。老爺は、あたりをはばかる低声で、わずか答えた。\\n'"
      ]
     },
     "execution_count": 5,
     "metadata": {},
     "output_type": "execute_result"
    }
   ],
   "source": [
    "from natto import MeCab\n",
    "\n",
    "mc = MeCab()\n",
    "\n",
    "with open(\"data/txt/meros.txt\", \"rt\") as f:\n",
    "    txt = f.read()\n",
    "\n",
    "txt"
   ]
  },
  {
   "cell_type": "code",
   "execution_count": 7,
   "metadata": {
    "scrolled": true,
    "tags": []
   },
   "outputs": [
    {
     "data": {
      "text/plain": [
       "['メロス',\n",
       " '激怒',\n",
       " 'し',\n",
       " '邪智',\n",
       " '暴虐',\n",
       " '王',\n",
       " '除か',\n",
       " 'なら',\n",
       " '決意',\n",
       " 'し',\n",
       " 'メロス',\n",
       " '政治',\n",
       " 'わから',\n",
       " 'メロス',\n",
       " '村',\n",
       " '牧人',\n",
       " '笛',\n",
       " '吹き',\n",
       " '羊',\n",
       " '遊ん',\n",
       " '暮し',\n",
       " '来',\n",
       " '邪悪',\n",
       " '人一倍',\n",
       " '敏感',\n",
       " 'きょう',\n",
       " '未明',\n",
       " 'メロス',\n",
       " '村',\n",
       " '出発',\n",
       " 'し',\n",
       " '野',\n",
       " '越え',\n",
       " '山越え',\n",
       " '十',\n",
       " '里',\n",
       " 'なれ',\n",
       " '此',\n",
       " 'シラクス',\n",
       " '市',\n",
       " 'やって来',\n",
       " 'メロス',\n",
       " '父',\n",
       " '母',\n",
       " '女房',\n",
       " '十',\n",
       " '六',\n",
       " '内気',\n",
       " '妹',\n",
       " '二',\n",
       " '人',\n",
       " '暮し',\n",
       " '妹',\n",
       " '村',\n",
       " '律',\n",
       " '気',\n",
       " '一',\n",
       " '牧人',\n",
       " '花婿',\n",
       " '迎える',\n",
       " '事',\n",
       " 'なっ',\n",
       " 'い',\n",
       " '結婚式',\n",
       " '間近',\n",
       " 'の',\n",
       " 'メロス',\n",
       " 'それ',\n",
       " 'ゆえ',\n",
       " '花嫁',\n",
       " '衣裳',\n",
       " '祝宴',\n",
       " '御馳走',\n",
       " '買い',\n",
       " '市',\n",
       " 'やって来',\n",
       " 'の',\n",
       " '品々',\n",
       " '買い',\n",
       " '集め',\n",
       " '都',\n",
       " '大路',\n",
       " '歩い',\n",
       " 'メロス',\n",
       " '竹馬',\n",
       " '友',\n",
       " 'あっ',\n",
       " 'セリヌンティウス',\n",
       " '今',\n",
       " '此',\n",
       " 'シラクス',\n",
       " '市',\n",
       " '石工',\n",
       " 'し',\n",
       " 'いる',\n",
       " '友',\n",
       " '訪ね',\n",
       " 'みる',\n",
       " 'つもり',\n",
       " 'の',\n",
       " '逢わ',\n",
       " 'の',\n",
       " '訪ね',\n",
       " '行く',\n",
       " 'の',\n",
       " '楽しみ',\n",
       " '歩い',\n",
       " 'いる',\n",
       " 'うち',\n",
       " 'メロス',\n",
       " 'まち',\n",
       " '様子',\n",
       " '思っ',\n",
       " 'し',\n",
       " 'いる',\n",
       " '日',\n",
       " '落ち',\n",
       " 'まち',\n",
       " 'の',\n",
       " '当り',\n",
       " 'まえ',\n",
       " '夜',\n",
       " 'せい',\n",
       " '市',\n",
       " '全体',\n",
       " 'のんき',\n",
       " 'メロス',\n",
       " '不安',\n",
       " 'なっ',\n",
       " '来',\n",
       " '路',\n",
       " '逢っ',\n",
       " '若い衆',\n",
       " 'つかまえ',\n",
       " '何',\n",
       " 'あっ',\n",
       " 'の',\n",
       " '二',\n",
       " '年',\n",
       " 'まえ',\n",
       " '此',\n",
       " '市',\n",
       " '来',\n",
       " 'とき',\n",
       " '夜',\n",
       " '皆',\n",
       " '歌',\n",
       " 'うたっ',\n",
       " 'まち',\n",
       " '賑やか',\n",
       " '筈',\n",
       " '質問',\n",
       " 'し',\n",
       " '若い衆',\n",
       " '首',\n",
       " '振っ',\n",
       " '答え',\n",
       " '歩い',\n",
       " '老爺',\n",
       " '逢い',\n",
       " 'こんど',\n",
       " '語勢',\n",
       " 'し',\n",
       " '質問',\n",
       " 'し',\n",
       " '老爺',\n",
       " '答え',\n",
       " 'メロス',\n",
       " '両手',\n",
       " '老爺',\n",
       " 'からだ',\n",
       " 'ゆすぶっ',\n",
       " '質問',\n",
       " '重ね',\n",
       " '老爺',\n",
       " 'あたり',\n",
       " 'はばかる',\n",
       " '声',\n",
       " '答え']"
      ]
     },
     "execution_count": 7,
     "metadata": {},
     "output_type": "execute_result"
    }
   ],
   "source": [
    "word_list = []\n",
    "\n",
    "for part_and_word in mc.parse(txt, as_nodes=True):\n",
    "    \n",
    "    # begin of sequence, end of sequenceでない場合\n",
    "    if not (part_and_word.is_bos() or part_and_word.is_eos()):\n",
    "        \n",
    "        part, word = part_and_word.feature.split(',', 1)\n",
    "        \n",
    "        if part in ['名詞', '動詞']:\n",
    "            word_list.append(part_and_word.surface)\n",
    "\n",
    "word_list"
   ]
  },
  {
   "cell_type": "markdown",
   "metadata": {},
   "source": [
    "### 011_character/002:単語の集合データに変換\n",
    "\n",
    "#### 語順を考慮する\n",
    "\n",
    "- その後、語順を考慮するかどうかも重要な要素である。\n",
    "- 考慮するかどうかは、後続のタスクによって決まる。\n",
    "  - 文章のネガポジ判定の場合は、語順を考慮する必要性が高い。\n",
    "  - 文書分類は、語順を考慮する必要性が低い\n",
    "- 語順を考慮する場合は、構文解析という前処理をすることが多い。\n",
    "- SyntaxNetなどで簡単に実現できるが、活用が専門家以外難しい。\n",
    "\n",
    "#### 語順を考慮しない\n",
    "\n",
    "- 語順を考慮しない形式は、bag of wordsと呼ばれる。\n",
    "- 本書ではこれらを中心に解説する。"
   ]
  },
  {
   "cell_type": "markdown",
   "metadata": {},
   "source": [
    "<span style=\"background-color:yellow;\">問２：３つのテキストファイルごとにbag of wordsを作成せよ。</span>"
   ]
  },
  {
   "cell_type": "markdown",
   "metadata": {},
   "source": [
    "#### R (Awesome)\n",
    "\n",
    "- RMeCabでは、形態素解析とbag of wordsを同時に行うdocDFが提供されている。"
   ]
  },
  {
   "cell_type": "markdown",
   "metadata": {},
   "source": [
    "#### Python (Awesome)\n",
    "- MeCab + gensimでbag of wordsを計算する。"
   ]
  },
  {
   "cell_type": "code",
   "execution_count": 9,
   "metadata": {},
   "outputs": [
    {
     "name": "stdout",
     "output_type": "stream",
     "text": [
      "Collecting gensim\n",
      "  Downloading gensim-4.2.0-cp39-cp39-manylinux_2_12_x86_64.manylinux2010_x86_64.whl (24.0 MB)\n",
      "\u001b[K     |████████████████████████████████| 24.0 MB 10.4 MB/s eta 0:00:01     |█████████████████████▏          | 15.9 MB 15.3 MB/s eta 0:00:01\n",
      "\u001b[?25hRequirement already satisfied: scipy>=0.18.1 in /opt/conda/lib/python3.9/site-packages (from gensim) (1.7.3)\n",
      "Requirement already satisfied: numpy>=1.17.0 in /opt/conda/lib/python3.9/site-packages (from gensim) (1.22.1)\n",
      "Collecting smart-open>=1.8.1\n",
      "  Downloading smart_open-6.0.0-py3-none-any.whl (58 kB)\n",
      "\u001b[K     |████████████████████████████████| 58 kB 5.8 MB/s  eta 0:00:01\n",
      "\u001b[?25hInstalling collected packages: smart-open, gensim\n",
      "Successfully installed gensim-4.2.0 smart-open-6.0.0\n"
     ]
    }
   ],
   "source": [
    "!pip3 install gensim"
   ]
  },
  {
   "cell_type": "code",
   "execution_count": 22,
   "metadata": {},
   "outputs": [],
   "source": [
    "from natto import MeCab\n",
    "from gensim import corpora, matutils\n",
    "import pathlib\n",
    "\n",
    "mc = MeCab()\n",
    "\n",
    "txt_word_list = []\n",
    "\n",
    "files = [ *pathlib.Path('data/txt').glob('*.txt')]\n",
    "files\n",
    "\n",
    "for file in files:\n",
    "    with open(file, \"rt\") as f:\n",
    "        txt = f.read()\n",
    "    \n",
    "    word_list = []\n",
    "    for part_and_word in mc.parse(txt, as_nodes=True):\n",
    "\n",
    "        # begin of sequence, end of sequenceでない場合\n",
    "        if not (part_and_word.is_bos() or part_and_word.is_eos()):\n",
    "\n",
    "            part, word = part_and_word.feature.split(',', 1)\n",
    "\n",
    "            if part in ['名詞', '動詞']:\n",
    "                word_list.append(part_and_word.surface)\n",
    "\n",
    "    txt_word_list.append(word_list)\n",
    "\n",
    "# 出現単語を辞書化（語彙情報）\n",
    "corpus_dic = corpora.Dictionary(txt_word_list)\n",
    "\n",
    "# 各文章を出現回数に変換\n",
    "corpus_list = [corpus_dic.doc2bow(word_list) for word_list in txt_word_list]\n",
    "\n",
    "# sparse行列に変換\n",
    "word_matrix = matutils.corpus2csc(corpus_list)"
   ]
  },
  {
   "attachments": {
    "d5c79f55-14d2-4cf5-ad6d-e22ea7706593.png": {
     "image/png": "[encoded data removed]"
    }
   },
   "cell_type": "markdown",
   "metadata": {},
   "source": [
    "### 011_character/003:TF-IDFによる単語の重要度調整\n",
    "\n",
    "- TFは単語の出現割合\n",
    "- IDFはレア度合\n",
    "\n",
    "![image.png](attachment:d5c79f55-14d2-4cf5-ad6d-e22ea7706593.png)\n",
    "\n",
    "- 正規化について書いてある。\n",
    "- TFは文章の単語数には関係ないが、IDFはそれと無関係なので、正規化しないと文書間で絶対的な大きさが合わないため正規化する？\n",
    "- 手前みそですが以下に私も解説を書きました。\n",
    "  - [https://nakamura-shogo.gitbook.io/git-book-ml-wiki/nlp/nlp_tf_idf](https://nakamura-shogo.gitbook.io/git-book-ml-wiki/nlp/nlp_tf_idf)"
   ]
  },
  {
   "cell_type": "markdown",
   "metadata": {},
   "source": [
    "<span style=\"background-color:yellow;\">問３：前述の３ファイルでTF-IDFを計算せよ。</span>"
   ]
  },
  {
   "cell_type": "markdown",
   "metadata": {},
   "source": [
    "#### R (Awesome)\n",
    "\n",
    "- docDFでweight引数を利用すれば計算できる。"
   ]
  },
  {
   "cell_type": "markdown",
   "metadata": {},
   "source": [
    "#### Python (Awesome)\n",
    "- 引き算してtimedelta64型になるので、そこから要素を取り出せる。\n",
    "- R同様、年月の差分を計算する時は、要素から計算しないといけない。\n",
    "- なんか小数点以下が切り捨てられている気がするんだが、要求されていることと合っていないかも。。。"
   ]
  },
  {
   "cell_type": "code",
   "execution_count": 26,
   "metadata": {},
   "outputs": [],
   "source": [
    "from gensim import matutils, models\n",
    "\n",
    "# TF-IDFのモデルを作成\n",
    "tfidf_model = models.TfidfModel(corpus_list, normalize=True)\n",
    "\n",
    "corpus_list_tfidf = tfidf_model[corpus_list]\n",
    "word_matrix = matutils.corpus2csc(corpus_list_tfidf)"
   ]
  },
  {
   "cell_type": "code",
   "execution_count": 33,
   "metadata": {},
   "outputs": [
    {
     "data": {
      "text/html": [
       "<div>\n",
       "<style scoped>\n",
       "    .dataframe tbody tr th:only-of-type {\n",
       "        vertical-align: middle;\n",
       "    }\n",
       "\n",
       "    .dataframe tbody tr th {\n",
       "        vertical-align: top;\n",
       "    }\n",
       "\n",
       "    .dataframe thead th {\n",
       "        text-align: right;\n",
       "    }\n",
       "</style>\n",
       "<table border=\"1\" class=\"dataframe\">\n",
       "  <thead>\n",
       "    <tr style=\"text-align: right;\">\n",
       "      <th></th>\n",
       "      <th>0</th>\n",
       "      <th>1</th>\n",
       "      <th>2</th>\n",
       "      <th>3</th>\n",
       "      <th>4</th>\n",
       "      <th>5</th>\n",
       "      <th>6</th>\n",
       "      <th>7</th>\n",
       "      <th>8</th>\n",
       "      <th>9</th>\n",
       "      <th>...</th>\n",
       "      <th>222</th>\n",
       "      <th>223</th>\n",
       "      <th>224</th>\n",
       "      <th>225</th>\n",
       "      <th>226</th>\n",
       "      <th>227</th>\n",
       "      <th>228</th>\n",
       "      <th>229</th>\n",
       "      <th>230</th>\n",
       "      <th>231</th>\n",
       "    </tr>\n",
       "  </thead>\n",
       "  <tbody>\n",
       "    <tr>\n",
       "      <th>0</th>\n",
       "      <td>0.104079</td>\n",
       "      <td>0.104079</td>\n",
       "      <td>0.038412</td>\n",
       "      <td>0.076825</td>\n",
       "      <td>0.038412</td>\n",
       "      <td>0.104079</td>\n",
       "      <td>0.104079</td>\n",
       "      <td>0.208158</td>\n",
       "      <td>0.0</td>\n",
       "      <td>0.416315</td>\n",
       "      <td>...</td>\n",
       "      <td>0.000000</td>\n",
       "      <td>0.000000</td>\n",
       "      <td>0.000000</td>\n",
       "      <td>0.000000</td>\n",
       "      <td>0.000000</td>\n",
       "      <td>0.000000</td>\n",
       "      <td>0.000000</td>\n",
       "      <td>0.000000</td>\n",
       "      <td>0.000000</td>\n",
       "      <td>0.000000</td>\n",
       "    </tr>\n",
       "    <tr>\n",
       "      <th>1</th>\n",
       "      <td>0.000000</td>\n",
       "      <td>0.000000</td>\n",
       "      <td>0.000000</td>\n",
       "      <td>0.160429</td>\n",
       "      <td>0.000000</td>\n",
       "      <td>0.000000</td>\n",
       "      <td>0.000000</td>\n",
       "      <td>0.000000</td>\n",
       "      <td>0.0</td>\n",
       "      <td>0.000000</td>\n",
       "      <td>...</td>\n",
       "      <td>0.000000</td>\n",
       "      <td>0.000000</td>\n",
       "      <td>0.000000</td>\n",
       "      <td>0.000000</td>\n",
       "      <td>0.000000</td>\n",
       "      <td>0.000000</td>\n",
       "      <td>0.000000</td>\n",
       "      <td>0.000000</td>\n",
       "      <td>0.000000</td>\n",
       "      <td>0.000000</td>\n",
       "    </tr>\n",
       "    <tr>\n",
       "      <th>2</th>\n",
       "      <td>0.000000</td>\n",
       "      <td>0.000000</td>\n",
       "      <td>0.026181</td>\n",
       "      <td>0.000000</td>\n",
       "      <td>0.026181</td>\n",
       "      <td>0.000000</td>\n",
       "      <td>0.000000</td>\n",
       "      <td>0.000000</td>\n",
       "      <td>0.0</td>\n",
       "      <td>0.000000</td>\n",
       "      <td>...</td>\n",
       "      <td>0.070937</td>\n",
       "      <td>0.070937</td>\n",
       "      <td>0.070937</td>\n",
       "      <td>0.070937</td>\n",
       "      <td>0.070937</td>\n",
       "      <td>0.070937</td>\n",
       "      <td>0.070937</td>\n",
       "      <td>0.070937</td>\n",
       "      <td>0.070937</td>\n",
       "      <td>0.070937</td>\n",
       "    </tr>\n",
       "  </tbody>\n",
       "</table>\n",
       "<p>3 rows × 232 columns</p>\n",
       "</div>"
      ],
      "text/plain": [
       "        0         1         2         3         4         5         6    \\\n",
       "0  0.104079  0.104079  0.038412  0.076825  0.038412  0.104079  0.104079   \n",
       "1  0.000000  0.000000  0.000000  0.160429  0.000000  0.000000  0.000000   \n",
       "2  0.000000  0.000000  0.026181  0.000000  0.026181  0.000000  0.000000   \n",
       "\n",
       "        7    8         9    ...       222       223       224       225  \\\n",
       "0  0.208158  0.0  0.416315  ...  0.000000  0.000000  0.000000  0.000000   \n",
       "1  0.000000  0.0  0.000000  ...  0.000000  0.000000  0.000000  0.000000   \n",
       "2  0.000000  0.0  0.000000  ...  0.070937  0.070937  0.070937  0.070937   \n",
       "\n",
       "        226       227       228       229       230       231  \n",
       "0  0.000000  0.000000  0.000000  0.000000  0.000000  0.000000  \n",
       "1  0.000000  0.000000  0.000000  0.000000  0.000000  0.000000  \n",
       "2  0.070937  0.070937  0.070937  0.070937  0.070937  0.070937  \n",
       "\n",
       "[3 rows x 232 columns]"
      ]
     },
     "execution_count": 33,
     "metadata": {},
     "output_type": "execute_result"
    }
   ],
   "source": [
    "import pandas as pd\n",
    "pd.DataFrame(word_matrix.todense().T)"
   ]
  },
  {
   "cell_type": "markdown",
   "metadata": {},
   "source": [
    "#### Python: その他の解法\n",
    "\n",
    "- sklearnのTfidfVectorizerを使うと、手順が簡易で済む。\n",
    "- 正規化はされているか…？\n",
    "  - 引数に`norm='l2'`があるのでやってそう"
   ]
  },
  {
   "cell_type": "code",
   "execution_count": 35,
   "metadata": {},
   "outputs": [
    {
     "name": "stdout",
     "output_type": "stream",
     "text": [
      "(3, 232)\n"
     ]
    }
   ],
   "source": [
    "from sklearn.feature_extraction.text import TfidfVectorizer\n",
    "corpus = [ ' '.join(t) for t in txt_word_list]\n",
    "vectorizer = TfidfVectorizer(token_pattern=\"(?u)\\\\b\\\\w+\\\\b\")\n",
    "X = vectorizer.fit_transform(corpus)\n",
    "vectorizer.get_feature_names_out()\n",
    "print(X.shape)"
   ]
  },
  {
   "cell_type": "code",
   "execution_count": 38,
   "metadata": {},
   "outputs": [
    {
     "data": {
      "text/html": [
       "<div>\n",
       "<style scoped>\n",
       "    .dataframe tbody tr th:only-of-type {\n",
       "        vertical-align: middle;\n",
       "    }\n",
       "\n",
       "    .dataframe tbody tr th {\n",
       "        vertical-align: top;\n",
       "    }\n",
       "\n",
       "    .dataframe thead th {\n",
       "        text-align: right;\n",
       "    }\n",
       "</style>\n",
       "<table border=\"1\" class=\"dataframe\">\n",
       "  <thead>\n",
       "    <tr style=\"text-align: right;\">\n",
       "      <th></th>\n",
       "      <th>0</th>\n",
       "      <th>1</th>\n",
       "      <th>2</th>\n",
       "      <th>3</th>\n",
       "      <th>4</th>\n",
       "      <th>5</th>\n",
       "      <th>6</th>\n",
       "      <th>7</th>\n",
       "      <th>8</th>\n",
       "      <th>9</th>\n",
       "      <th>...</th>\n",
       "      <th>222</th>\n",
       "      <th>223</th>\n",
       "      <th>224</th>\n",
       "      <th>225</th>\n",
       "      <th>226</th>\n",
       "      <th>227</th>\n",
       "      <th>228</th>\n",
       "      <th>229</th>\n",
       "      <th>230</th>\n",
       "      <th>231</th>\n",
       "    </tr>\n",
       "  </thead>\n",
       "  <tbody>\n",
       "    <tr>\n",
       "      <th>0</th>\n",
       "      <td>0.000000</td>\n",
       "      <td>0.000000</td>\n",
       "      <td>0.000000</td>\n",
       "      <td>0.000000</td>\n",
       "      <td>0.000000</td>\n",
       "      <td>0.000000</td>\n",
       "      <td>0.000000</td>\n",
       "      <td>0.090477</td>\n",
       "      <td>0.000000</td>\n",
       "      <td>0.000000</td>\n",
       "      <td>...</td>\n",
       "      <td>0.000000</td>\n",
       "      <td>0.000000</td>\n",
       "      <td>0.090477</td>\n",
       "      <td>0.000000</td>\n",
       "      <td>0.090477</td>\n",
       "      <td>0.090477</td>\n",
       "      <td>0.090477</td>\n",
       "      <td>0.090477</td>\n",
       "      <td>0.000000</td>\n",
       "      <td>0.000000</td>\n",
       "    </tr>\n",
       "    <tr>\n",
       "      <th>1</th>\n",
       "      <td>0.050058</td>\n",
       "      <td>0.100117</td>\n",
       "      <td>0.000000</td>\n",
       "      <td>0.050058</td>\n",
       "      <td>0.114212</td>\n",
       "      <td>0.050058</td>\n",
       "      <td>0.050058</td>\n",
       "      <td>0.000000</td>\n",
       "      <td>0.050058</td>\n",
       "      <td>0.050058</td>\n",
       "      <td>...</td>\n",
       "      <td>0.050058</td>\n",
       "      <td>0.050058</td>\n",
       "      <td>0.000000</td>\n",
       "      <td>0.050058</td>\n",
       "      <td>0.000000</td>\n",
       "      <td>0.000000</td>\n",
       "      <td>0.000000</td>\n",
       "      <td>0.000000</td>\n",
       "      <td>0.000000</td>\n",
       "      <td>0.050058</td>\n",
       "    </tr>\n",
       "    <tr>\n",
       "      <th>2</th>\n",
       "      <td>0.000000</td>\n",
       "      <td>0.000000</td>\n",
       "      <td>0.136212</td>\n",
       "      <td>0.000000</td>\n",
       "      <td>0.051796</td>\n",
       "      <td>0.000000</td>\n",
       "      <td>0.000000</td>\n",
       "      <td>0.000000</td>\n",
       "      <td>0.000000</td>\n",
       "      <td>0.000000</td>\n",
       "      <td>...</td>\n",
       "      <td>0.000000</td>\n",
       "      <td>0.000000</td>\n",
       "      <td>0.000000</td>\n",
       "      <td>0.000000</td>\n",
       "      <td>0.000000</td>\n",
       "      <td>0.000000</td>\n",
       "      <td>0.000000</td>\n",
       "      <td>0.000000</td>\n",
       "      <td>0.068106</td>\n",
       "      <td>0.000000</td>\n",
       "    </tr>\n",
       "  </tbody>\n",
       "</table>\n",
       "<p>3 rows × 232 columns</p>\n",
       "</div>"
      ],
      "text/plain": [
       "        0         1         2         3         4         5         6    \\\n",
       "0  0.000000  0.000000  0.000000  0.000000  0.000000  0.000000  0.000000   \n",
       "1  0.050058  0.100117  0.000000  0.050058  0.114212  0.050058  0.050058   \n",
       "2  0.000000  0.000000  0.136212  0.000000  0.051796  0.000000  0.000000   \n",
       "\n",
       "        7         8         9    ...       222       223       224       225  \\\n",
       "0  0.090477  0.000000  0.000000  ...  0.000000  0.000000  0.090477  0.000000   \n",
       "1  0.000000  0.050058  0.050058  ...  0.050058  0.050058  0.000000  0.050058   \n",
       "2  0.000000  0.000000  0.000000  ...  0.000000  0.000000  0.000000  0.000000   \n",
       "\n",
       "        226       227       228       229       230       231  \n",
       "0  0.090477  0.090477  0.090477  0.090477  0.000000  0.000000  \n",
       "1  0.000000  0.000000  0.000000  0.000000  0.000000  0.050058  \n",
       "2  0.000000  0.000000  0.000000  0.000000  0.068106  0.000000  \n",
       "\n",
       "[3 rows x 232 columns]"
      ]
     },
     "execution_count": 38,
     "metadata": {},
     "output_type": "execute_result"
    }
   ],
   "source": [
    "pd.DataFrame(X.todense())"
   ]
  }
 ],
 "metadata": {
  "kernelspec": {
   "display_name": "Python 3 (ipykernel)",
   "language": "python",
   "name": "python3"
  },
  "language_info": {
   "codemirror_mode": {
    "name": "ipython",
    "version": 3
   },
   "file_extension": ".py",
   "mimetype": "text/x-python",
   "name": "python",
   "nbconvert_exporter": "python",
   "pygments_lexer": "ipython3",
   "version": "3.9.6"
  }
 },
 "nbformat": 4,
 "nbformat_minor": 4
}
